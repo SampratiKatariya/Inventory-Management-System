{
 "cells": [
  {
   "cell_type": "code",
   "execution_count": 31,
   "id": "513f5d03",
   "metadata": {},
   "outputs": [],
   "source": [
    "##Execute only one time at beginning\n",
    "tid=1\n",
    "tr={}"
   ]
  },
  {
   "cell_type": "code",
   "execution_count": 32,
   "id": "ed830b15",
   "metadata": {},
   "outputs": [],
   "source": [
    "record = { 101 : {\"name\": \"T-shirt\" , \"price\": 400, \"qty\" : 40, \"ptype\": \"clothing\" , \"date\":\"01/09/2021\" },\n",
    "           102 : {\"name\": \"Kurtee\" , \"price\": 500, \"qty\" : 80, \"ptype\": \"clothing\" , \"date\":\"01/09/2021\" },\n",
    "           103 : {\"name\": \"Jacket\" , \"price\": 300, \"qty\" : 90, \"ptype\": \"clothing\", \"date\":\"01/09/2021\" },\n",
    "           104 : {\"name\": \"Saree\" , \"price\": 750, \"qty\" : 50, \"ptype\": \"clothing\" , \"date\":\"01/09/2021\" },\n",
    "           105 : {\"name\": \"Pants\" , \"price\": 400, \"qty\" : 40, \"ptype\": \"clothing\" , \"date\":\"01/09/2021\" },\n",
    "           106 : {\"name\": \"Shirt\" , \"price\": 450, \"qty\" : 40, \"ptype\": \"clothing\" , \"date\":\"01/09/2021\" },\n",
    "           107 : {\"name\": \"T-shirt\" , \"price\": 400, \"qty\" : 40, \"ptype\": \"clothing\" , \"date\":\"01/09/2021\" },\n",
    "           108 : {\"name\": \"Jeans\" , \"price\": 600, \"qty\" : 50, \"ptype\": \"clothing\" , \"date\":\"01/09/2021\" },\n",
    "           109 : {\"name\": \"Short tops\" , \"price\": 350, \"qty\" : 45, \"ptype\": \"clothing\" , \"date\":\"01/09/2021\" },\n",
    "           110 : {\"name\": \"Skirt\" , \"price\": 350, \"qty\" : 35, \"ptype\": \"clothing\" , \"date\":\"01/09/2021\" },\n",
    "           111 : {\"name\": \"Coke\" , \"price\": 100, \"qty\" : 50, \"ptype\": \"Drink\" , \"date\":\"01/09/2021\" },\n",
    "           112 : {\"name\": \"Cofee\" , \"price\": 100, \"qty\" : 50, \"ptype\": \"Drink\" , \"date\":\"01/09/2021\" },\n",
    "           113 : {\"name\": \"Chocolate Shake\" , \"price\": 100, \"qty\" : 50, \"ptype\": \"Drink\" , \"date\":\"01/09/2021\" },\n",
    "           114 : {\"name\": \"Tea\" , \"price\": 30, \"qty\" : 50, \"ptype\": \"Drink\" , \"date\":\"01/09/2021\" },\n",
    "           115 : {\"name\": \"Milk\" , \"price\": 40, \"qty\" : 50, \"ptype\": \"Drink\" , \"date\":\"01/09/2021\" },\n",
    "           116 : {\"name\": \"CadB\" , \"price\": 100, \"qty\" : 60, \"ptype\": \"Drink\" , \"date\":\"01/09/2021\" },\n",
    "           117 : {\"name\": \"Cold Cofee\" , \"price\": 100, \"qty\" : 45, \"ptype\": \"Drink\" , \"date\":\"01/09/2021\" },\n",
    "           118 : {\"name\": \"Strawberry Shake\" , \"price\": 120, \"qty\" : 40, \"ptype\": \"Drink\" , \"date\":\"01/09/2021\" },\n",
    "           119 : {\"name\": \"Mango Mastani\" , \"price\": 110, \"qty\" : 50, \"ptype\": \"Drink\" , \"date\":\"01/09/2021\" },\n",
    "           120 : {\"name\": \"Oreo Shake\" , \"price\": 100, \"qty\" : 50, \"ptype\": \"Drink\" , \"date\":\"01/09/2021\" },\n",
    "           121 : {\"name\": \"Eye liner\" , \"price\": 90, \"qty\" : 65, \"ptype\": \"Beauty\" , \"date\":\"01/09/2021\" },\n",
    "           122 : {\"name\": \"Kajal\" , \"price\": 75, \"qty\" : 70, \"ptype\": \"Beauty\" , \"date\":\"01/09/2021\" },\n",
    "           123 : {\"name\": \"Foundation\" , \"price\": 270, \"qty\" : 65, \"ptype\": \"Beauty\" , \"date\":\"01/09/2021\" },\n",
    "           124 : {\"name\": \"Nail paint\" , \"price\": 90, \"qty\" : 135, \"ptype\": \"Beauty\" , \"date\":\"01/09/2021\" },\n",
    "           125 : {\"name\": \"Syrum\" , \"price\": 175, \"qty\" : 35, \"ptype\": \"Beauty\" , \"date\":\"01/09/2021\" },\n",
    "           126 : {\"name\": \"Hair Oil\" , \"price\": 90, \"qty\" : 65, \"ptype\": \"Beauty\" , \"date\":\"01/09/2021\" },\n",
    "           127 : {\"name\": \"Powder\" , \"price\": 65, \"qty\" : 100, \"ptype\": \"Beauty\" , \"date\":\"01/09/2021\" },\n",
    "           128 : {\"name\": \"Shapoo\" , \"price\": 290, \"qty\" : 65, \"ptype\": \"Beauty\" , \"date\":\"01/09/2021\" },\n",
    "           129 : {\"name\": \"Soap\" , \"price\": 70, \"qty\" : 90, \"ptype\": \"Beauty\" , \"date\":\"01/09/2021\" },\n",
    "           130 : {\"name\": \"Hair dryer\" , \"price\": 300, \"qty\" : 30, \"ptype\": \"Beauty\" , \"date\":\"01/09/2021\" },\n",
    "         }        "
   ]
  },
  {
   "cell_type": "code",
   "execution_count": 33,
   "id": "e3a42e4f",
   "metadata": {},
   "outputs": [],
   "source": [
    "import json\n",
    "rec=json.dumps(record)\n",
    "ipf=open(\"Records.json\",'w')\n",
    "ipf.write(rec)\n",
    "ipf.close()"
   ]
  },
  {
   "cell_type": "code",
   "execution_count": 34,
   "id": "43b894f6",
   "metadata": {},
   "outputs": [],
   "source": [
    "fo=open(\"Records.json\",'r')\n",
    "records=json.loads(fo.read())"
   ]
  },
  {
   "cell_type": "code",
   "execution_count": 35,
   "id": "3a729d53",
   "metadata": {},
   "outputs": [],
   "source": [
    "def validid(id):\n",
    "    if id in range(101,131):\n",
    "        return True\n",
    "    else:\n",
    "        return False"
   ]
  },
  {
   "cell_type": "code",
   "execution_count": 36,
   "id": "db360967",
   "metadata": {},
   "outputs": [
    {
     "name": "stdout",
     "output_type": "stream",
     "text": [
      "id : 101   T-shirt\n",
      "id : 102   Kurtee\n",
      "id : 103   Jacket\n",
      "id : 104   Saree\n",
      "id : 105   Pants\n",
      "id : 106   Shirt\n",
      "id : 107   T-shirt\n",
      "id : 108   Jeans\n",
      "id : 109   Short tops\n",
      "id : 110   Skirt\n",
      "id : 111   Coke\n",
      "id : 112   Cofee\n",
      "id : 113   Chocolate Shake\n",
      "id : 114   Tea\n",
      "id : 115   Milk\n",
      "id : 116   CadB\n",
      "id : 117   Cold Cofee\n",
      "id : 118   Strawberry Shake\n",
      "id : 119   Mango Mastani\n",
      "id : 120   Oreo Shake\n",
      "id : 121   Eye liner\n",
      "id : 122   Kajal\n",
      "id : 123   Foundation\n",
      "id : 124   Nail paint\n",
      "id : 125   Syrum\n",
      "id : 126   Hair Oil\n",
      "id : 127   Powder\n",
      "id : 128   Shapoo\n",
      "id : 129   Soap\n",
      "id : 130   Hair dryer\n"
     ]
    }
   ],
   "source": [
    "for i in range(101,131): \n",
    "    print(\"id :\",i,\" \",record[i]['name'])"
   ]
  },
  {
   "cell_type": "code",
   "execution_count": 37,
   "id": "2c42e94a",
   "metadata": {},
   "outputs": [
    {
     "name": "stdout",
     "output_type": "stream",
     "text": [
      "Enter the number of items you want to buy2\n",
      "Enter the item id for item 1 101\n",
      "Enter the item id for item 2 103\n",
      "Enter quantity of  T-shirt  : \n",
      "2\n",
      "Enter quantity of  Jacket  : \n",
      "3\n"
     ]
    }
   ],
   "source": [
    "n=int(input(\"Enter the number of items you want to buy\"))\n",
    "itemlist={}\n",
    "for i in range(0,n):\n",
    "    print(\"Enter the item id for item\",(i+1),end=\" \")\n",
    "    temp=int(input())\n",
    "    if validid(temp):\n",
    "        itemlist[temp]={}\n",
    "    else:\n",
    "        print(\"Enter valid id\")\n",
    "        print(\"Enter the item id for item\",(i+1),end=\" \")\n",
    "        input()\n",
    "\n",
    "for id in itemlist:\n",
    "    itemlist[id]['name']=records[str(id)]['name']\n",
    "    itemlist[id]['price']=records[str(id)]['price']\n",
    "    itemlist[id]['a_qty']=records[str(id)]['qty']   \n",
    "    \n",
    "        \n",
    "for id in itemlist:\n",
    "    print(\"Enter quantity of \",itemlist[id]['name'],\" : \")\n",
    "    temp=int(input())\n",
    "    if temp<itemlist[id]['a_qty']:\n",
    "        itemlist[id]['r_qty']=temp\n",
    "        records[str(id)]['qty']=str(itemlist[id]['a_qty']-itemlist[id]['r_qty'])\n",
    "    else:\n",
    "        print(\"We have \",itemlist[id]['a_qty'],\" items in stock...Sorry\")\n"
   ]
  },
  {
   "cell_type": "code",
   "execution_count": 38,
   "id": "2f189405",
   "metadata": {},
   "outputs": [
    {
     "name": "stdout",
     "output_type": "stream",
     "text": [
      "Processing...\n",
      "Enter your name : Fname Surname => Samyak Katariya\n",
      "Enter your phone no : => 8967543388\n",
      "********************************\n",
      "Item name    Quantity    price \n",
      "********************************\n",
      "T-shirt         2      400\n",
      "Jacket         3      300\n",
      "************************\n",
      "Total price =  1700 \n",
      "***********************\n"
     ]
    }
   ],
   "source": [
    "print(\"Processing...\")\n",
    "cname=input(\"Enter your name : Fname Surname => \")\n",
    "cphone=input(\"Enter your phone no : => \")\n",
    "total=0\n",
    "print(\"********************************\\nItem name    Quantity    price \\n********************************\")\n",
    "for i in itemlist:\n",
    "    print(itemlist[i]['name'],\"       \",itemlist[i]['r_qty'],\"    \",itemlist[i]['price'])\n",
    "    total=total+(itemlist[i]['r_qty']*itemlist[i]['price'])\n",
    "    \n",
    "print(\"************************\\nTotal price = \",total,\"\\n***********************\")\n",
    "\n"
   ]
  },
  {
   "cell_type": "code",
   "execution_count": 46,
   "id": "5397d784",
   "metadata": {},
   "outputs": [
    {
     "name": "stdout",
     "output_type": "stream",
     "text": [
      "2    Name of customer : Samyak Katariya  Phone no : 8967543388\n",
      "Item name : T-shirt Price : 400 Quantity : 2Item name : Jacket Price : 300 Quantity : 3\n",
      "Bill amount : 1700 Time : Sun Sep  5 17:57:36 2021\n"
     ]
    }
   ],
   "source": [
    "import time\n",
    "sales=\"Name of customer : \"+cname+\"  Phone no : \"+cphone+\"\\n\"\n",
    "for item in itemlist:\n",
    "    sales=sales+\"Item name : \"+itemlist[item]['name']+\" Price : \"+str(itemlist[item]['price'])+\" Quantity : \"\n",
    "    sales=sales+str(itemlist[item]['r_qty'])\n",
    "sales=str(tid)+\"    \"+sales+\"\\nBill amount : \"+str(total)+\" Time : \"+(time.ctime())+\"\"\n",
    "tid=tid+1\n",
    "tr[tid]=sales\n",
    "print(sales)"
   ]
  },
  {
   "cell_type": "code",
   "execution_count": 47,
   "id": "544e161e",
   "metadata": {},
   "outputs": [
    {
     "data": {
      "text/plain": [
       "421"
      ]
     },
     "execution_count": 47,
     "metadata": {},
     "output_type": "execute_result"
    }
   ],
   "source": [
    "salesfile=json.dumps(tr)\n",
    "salesf=open(\"Sales.json\",'a')\n",
    "salesf.write(salesfile)"
   ]
  },
  {
   "cell_type": "code",
   "execution_count": 48,
   "id": "83b21794",
   "metadata": {},
   "outputs": [],
   "source": [
    "rec=json.dumps(records)\n",
    "f=open(\"Records.json\",'w')\n",
    "f.write(rec)\n",
    "f.close()"
   ]
  },
  {
   "cell_type": "code",
   "execution_count": 9,
   "id": "33eb4e84",
   "metadata": {},
   "outputs": [],
   "source": []
  },
  {
   "cell_type": "code",
   "execution_count": null,
   "id": "1109a4d8",
   "metadata": {},
   "outputs": [],
   "source": []
  }
 ],
 "metadata": {
  "kernelspec": {
   "display_name": "Python 3",
   "language": "python",
   "name": "python3"
  },
  "language_info": {
   "codemirror_mode": {
    "name": "ipython",
    "version": 3
   },
   "file_extension": ".py",
   "mimetype": "text/x-python",
   "name": "python",
   "nbconvert_exporter": "python",
   "pygments_lexer": "ipython3",
   "version": "3.8.8"
  }
 },
 "nbformat": 4,
 "nbformat_minor": 5
}
